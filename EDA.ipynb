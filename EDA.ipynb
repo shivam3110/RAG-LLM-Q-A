{
  "cells": [
    {
      "cell_type": "markdown",
      "metadata": {
        "id": "GyyJuCkN52ED"
      },
      "source": [
        "# **LOAD** data(json)"
      ]
    },
    {
      "cell_type": "code",
      "execution_count": 3,
      "metadata": {
        "id": "CA7-GZr_9c5F"
      },
      "outputs": [],
      "source": [
        "# !pip install pandas\n",
        "# !pip install pathlib\n",
        "import json\n",
        "import pandas as pd\n",
        "from pathlib import Path"
      ]
    },
    {
      "cell_type": "code",
      "execution_count": 4,
      "metadata": {
        "id": "VsPZ9QJy9hoG"
      },
      "outputs": [],
      "source": [
        "DIR = Path('/home/shsingh/knowledge_distillation/bliq')\n",
        "\n",
        "input_file = DIR / 'CaseStudy' /  'questions.json'\n",
        "output_file = DIR / 'final_submission' / 'cleanquest.json'"
      ]
    },
    {
      "cell_type": "code",
      "execution_count": 9,
      "metadata": {
        "id": "lYBFaenI9nIK"
      },
      "outputs": [],
      "source": [
        "# Step 1: Load the dataset\n",
        "def load_data(file_path):\n",
        "  df = pd.read_json(file_path)\n",
        "  df.head()\n",
        "  return df\n",
        "\n",
        "\n",
        "# Step 2: Identify and filter out questions with images\n",
        "def filter_images(df):\n",
        "  cnt=0\n",
        "  image_question_ids=[]\n",
        "  # Loop through the dataset to find questions with images\n",
        "  for i in range(len(df['question'])):\n",
        "    if df['question'].iloc[i].startswith('Refer to figure'):\n",
        "      image_question_ids.append(df['id'].iloc[i])\n",
        "      cnt+=1\n",
        "  print(\"questions with images : \" , cnt)\n",
        "  # Filter out questions with images\n",
        "  df_without_image=df[~(df.id.isin(image_question_ids))]\n",
        "  return df_without_image\n",
        "\n",
        "\n",
        "# Step 3: Clean explanations containing references to figures\n",
        "def clean_explanation(explanation):\n",
        "  #If explanation contains 'Refer to figure', remove it\n",
        "  if 'Refer to figure' in explanation:\n",
        "      return explanation.replace('Refer to figure','')\n",
        "  else:\n",
        "      return explanation\n",
        "\n",
        "\n",
        "# Step 4: Save the cleaned data as JSON\n",
        "def save_clean_data(df, output_file):\n",
        "  json_objects=[]\n",
        "  for i in range(len(df)):\n",
        "      json_objects.append((df.iloc[i]).to_json())\n",
        "\n",
        "  df.to_json(output_file,orient='records')\n",
        "  df.to_csv(str(output_file).replace('json','csv'), index=False)\n"
      ]
    },
    {
      "cell_type": "code",
      "execution_count": 10,
      "metadata": {
        "id": "k91oFfnL_5kw"
      },
      "outputs": [
        {
          "name": "stdout",
          "output_type": "stream",
          "text": [
            "questions with images :  220\n"
          ]
        },
        {
          "name": "stderr",
          "output_type": "stream",
          "text": [
            "/tmp/ipykernel_1671590/2002310244.py:4: SettingWithCopyWarning: \n",
            "A value is trying to be set on a copy of a slice from a DataFrame.\n",
            "Try using .loc[row_indexer,col_indexer] = value instead\n",
            "\n",
            "See the caveats in the documentation: https://pandas.pydata.org/pandas-docs/stable/user_guide/indexing.html#returning-a-view-versus-a-copy\n",
            "  df_without_image['clean_explanation']=df['explanation'].apply(clean_explanation)\n"
          ]
        }
      ],
      "source": [
        "df = load_data(input_file)\n",
        "df_without_image = filter_images(df)\n",
        "\n",
        "df_without_image['clean_explanation']=df['explanation'].apply(clean_explanation)\n",
        "save_clean_data(df_without_image, output_file)"
      ]
    },
    {
      "cell_type": "code",
      "execution_count": 5,
      "metadata": {
        "id": "4K4otr2rB0q7"
      },
      "outputs": [
        {
          "data": {
            "text/html": [
              "<div>\n",
              "<style scoped>\n",
              "    .dataframe tbody tr th:only-of-type {\n",
              "        vertical-align: middle;\n",
              "    }\n",
              "\n",
              "    .dataframe tbody tr th {\n",
              "        vertical-align: top;\n",
              "    }\n",
              "\n",
              "    .dataframe thead th {\n",
              "        text-align: right;\n",
              "    }\n",
              "</style>\n",
              "<table border=\"1\" class=\"dataframe\">\n",
              "  <thead>\n",
              "    <tr style=\"text-align: right;\">\n",
              "      <th></th>\n",
              "      <th>question</th>\n",
              "      <th>answers</th>\n",
              "      <th>correct_answer</th>\n",
              "      <th>explanation</th>\n",
              "      <th>explanationImageHtml</th>\n",
              "      <th>id</th>\n",
              "      <th>clean_explanation</th>\n",
              "    </tr>\n",
              "  </thead>\n",
              "  <tbody>\n",
              "    <tr>\n",
              "      <th>0</th>\n",
              "      <td>Mountain waves should be expected..</td>\n",
              "      <td>[{'id': 1, 'answer': 'directly over the mounta...</td>\n",
              "      <td>on the downwind side of the mountain range.</td>\n",
              "      <td>Refer to figure.\\nMOUNTAIN/LEE WAVES\\ndevelop ...</td>\n",
              "      <td>&lt;div class=\"mt10 fl wd100\"&gt; &lt;div class=\"fl tc ...</td>\n",
              "      <td>72880</td>\n",
              "      <td>.\\nMOUNTAIN/LEE WAVES\\ndevelop on the lee, or ...</td>\n",
              "    </tr>\n",
              "    <tr>\n",
              "      <th>1</th>\n",
              "      <td>Which cloud poses the highest risk to aviation...</td>\n",
              "      <td>[{'id': 1, 'answer': 'Cumulus fractus.'}, {'id...</td>\n",
              "      <td>Cumulonimbus.</td>\n",
              "      <td>Refer to figure.\\nWhen cold air displaces warm...</td>\n",
              "      <td>&lt;div class=\"mt10 fl wd100\"&gt; &lt;div class=\"fl tc ...</td>\n",
              "      <td>96266</td>\n",
              "      <td>.\\nWhen cold air displaces warm air, it create...</td>\n",
              "    </tr>\n",
              "    <tr>\n",
              "      <th>2</th>\n",
              "      <td>According to ICAO Annex 3 definition, \"visibil...</td>\n",
              "      <td>[{'id': 1, 'answer': '1 is correct, 2 is corre...</td>\n",
              "      <td>1 is correct, 2 is incorrect.</td>\n",
              "      <td>In effect,\\nvisibility\\nis a measure of atmosp...</td>\n",
              "      <td></td>\n",
              "      <td>96218</td>\n",
              "      <td>In effect,\\nvisibility\\nis a measure of atmosp...</td>\n",
              "    </tr>\n",
              "    <tr>\n",
              "      <th>3</th>\n",
              "      <td>An aerodrome on the coast (Faro, Portugal) rep...</td>\n",
              "      <td>[{'id': 1, 'answer': 'Humidity reducing becaus...</td>\n",
              "      <td>A cold front crossing the area.</td>\n",
              "      <td>Refer to figure.\\nNote: This question has two ...</td>\n",
              "      <td>&lt;div class=\"mt10 fl wd100\"&gt; &lt;div class=\"fl tc ...</td>\n",
              "      <td>80606</td>\n",
              "      <td>.\\nNote: This question has two correct answers...</td>\n",
              "    </tr>\n",
              "    <tr>\n",
              "      <th>4</th>\n",
              "      <td>Which of the following statements concerning a...</td>\n",
              "      <td>[{'id': 1, 'answer': 'Air parcels that are for...</td>\n",
              "      <td>An isothermal layer is absolutely stable.</td>\n",
              "      <td>An isothermal layer is defined as a vertical c...</td>\n",
              "      <td></td>\n",
              "      <td>72780</td>\n",
              "      <td>An isothermal layer is defined as a vertical c...</td>\n",
              "    </tr>\n",
              "    <tr>\n",
              "      <th>...</th>\n",
              "      <td>...</td>\n",
              "      <td>...</td>\n",
              "      <td>...</td>\n",
              "      <td>...</td>\n",
              "      <td>...</td>\n",
              "      <td>...</td>\n",
              "      <td>...</td>\n",
              "    </tr>\n",
              "    <tr>\n",
              "      <th>1447</th>\n",
              "      <td>A mountain range spans from North to South. A ...</td>\n",
              "      <td>[{'id': 1, 'answer': 'Cloud base higher than 2...</td>\n",
              "      <td>Cloud base higher than 2 000 ft and colder air...</td>\n",
              "      <td>Refer to figure.\\nThis question is a little tr...</td>\n",
              "      <td>&lt;div class=\"mt10 fl wd100\"&gt; &lt;div class=\"fl tc ...</td>\n",
              "      <td>82192</td>\n",
              "      <td>.\\nThis question is a little tricky as it is a...</td>\n",
              "    </tr>\n",
              "    <tr>\n",
              "      <th>1448</th>\n",
              "      <td>Which type of cloud is most likely to be encou...</td>\n",
              "      <td>[{'id': 1, 'answer': 'Altocumulus'}, {'id': 2,...</td>\n",
              "      <td>Altocumulus</td>\n",
              "      <td>Refer to figure.\\nNote: This question is quite...</td>\n",
              "      <td>&lt;div class=\"mt10 fl wd100\"&gt; &lt;div class=\"fl tc ...</td>\n",
              "      <td>100595</td>\n",
              "      <td>.\\nNote: This question is quite challenging, a...</td>\n",
              "    </tr>\n",
              "    <tr>\n",
              "      <th>1449</th>\n",
              "      <td>Advection fog is most likely to form when:</td>\n",
              "      <td>[{'id': 1, 'answer': 'maritime warm air flows ...</td>\n",
              "      <td>a mild moist airstream flows over snow covered...</td>\n",
              "      <td>Refer to figure.\\nADVECTION FOG\\n. Is formed b...</td>\n",
              "      <td>&lt;div class=\"mt10 fl wd100\"&gt; &lt;div class=\"fl tc ...</td>\n",
              "      <td>73249</td>\n",
              "      <td>.\\nADVECTION FOG\\n. Is formed by the advection...</td>\n",
              "    </tr>\n",
              "    <tr>\n",
              "      <th>1450</th>\n",
              "      <td>Immediately following an extended flight at hi...</td>\n",
              "      <td>[{'id': 1, 'answer': 'Mixed ice on the leading...</td>\n",
              "      <td>Frost forming around the fuel tanks due to col...</td>\n",
              "      <td>Refer to figure.\\nIn this scenario, the aircra...</td>\n",
              "      <td>&lt;div class=\"mt10 fl wd100\"&gt; &lt;div class=\"fl tc ...</td>\n",
              "      <td>82240</td>\n",
              "      <td>.\\nIn this scenario, the aircraft has a very c...</td>\n",
              "    </tr>\n",
              "    <tr>\n",
              "      <th>1451</th>\n",
              "      <td>The temperature at FL80 is +6°C. What will the...</td>\n",
              "      <td>[{'id': 1, 'answer': '0°C'}, {'id': 2, 'answer...</td>\n",
              "      <td>-4°C</td>\n",
              "      <td>In the standard troposphere air temperature on...</td>\n",
              "      <td></td>\n",
              "      <td>73082</td>\n",
              "      <td>In the standard troposphere air temperature on...</td>\n",
              "    </tr>\n",
              "  </tbody>\n",
              "</table>\n",
              "<p>1452 rows × 7 columns</p>\n",
              "</div>"
            ],
            "text/plain": [
              "                                               question  \\\n",
              "0                   Mountain waves should be expected..   \n",
              "1     Which cloud poses the highest risk to aviation...   \n",
              "2     According to ICAO Annex 3 definition, \"visibil...   \n",
              "3     An aerodrome on the coast (Faro, Portugal) rep...   \n",
              "4     Which of the following statements concerning a...   \n",
              "...                                                 ...   \n",
              "1447  A mountain range spans from North to South. A ...   \n",
              "1448  Which type of cloud is most likely to be encou...   \n",
              "1449         Advection fog is most likely to form when:   \n",
              "1450  Immediately following an extended flight at hi...   \n",
              "1451  The temperature at FL80 is +6°C. What will the...   \n",
              "\n",
              "                                                answers  \\\n",
              "0     [{'id': 1, 'answer': 'directly over the mounta...   \n",
              "1     [{'id': 1, 'answer': 'Cumulus fractus.'}, {'id...   \n",
              "2     [{'id': 1, 'answer': '1 is correct, 2 is corre...   \n",
              "3     [{'id': 1, 'answer': 'Humidity reducing becaus...   \n",
              "4     [{'id': 1, 'answer': 'Air parcels that are for...   \n",
              "...                                                 ...   \n",
              "1447  [{'id': 1, 'answer': 'Cloud base higher than 2...   \n",
              "1448  [{'id': 1, 'answer': 'Altocumulus'}, {'id': 2,...   \n",
              "1449  [{'id': 1, 'answer': 'maritime warm air flows ...   \n",
              "1450  [{'id': 1, 'answer': 'Mixed ice on the leading...   \n",
              "1451  [{'id': 1, 'answer': '0°C'}, {'id': 2, 'answer...   \n",
              "\n",
              "                                         correct_answer  \\\n",
              "0           on the downwind side of the mountain range.   \n",
              "1                                         Cumulonimbus.   \n",
              "2                         1 is correct, 2 is incorrect.   \n",
              "3                       A cold front crossing the area.   \n",
              "4             An isothermal layer is absolutely stable.   \n",
              "...                                                 ...   \n",
              "1447  Cloud base higher than 2 000 ft and colder air...   \n",
              "1448                                        Altocumulus   \n",
              "1449  a mild moist airstream flows over snow covered...   \n",
              "1450  Frost forming around the fuel tanks due to col...   \n",
              "1451                                               -4°C   \n",
              "\n",
              "                                            explanation  \\\n",
              "0     Refer to figure.\\nMOUNTAIN/LEE WAVES\\ndevelop ...   \n",
              "1     Refer to figure.\\nWhen cold air displaces warm...   \n",
              "2     In effect,\\nvisibility\\nis a measure of atmosp...   \n",
              "3     Refer to figure.\\nNote: This question has two ...   \n",
              "4     An isothermal layer is defined as a vertical c...   \n",
              "...                                                 ...   \n",
              "1447  Refer to figure.\\nThis question is a little tr...   \n",
              "1448  Refer to figure.\\nNote: This question is quite...   \n",
              "1449  Refer to figure.\\nADVECTION FOG\\n. Is formed b...   \n",
              "1450  Refer to figure.\\nIn this scenario, the aircra...   \n",
              "1451  In the standard troposphere air temperature on...   \n",
              "\n",
              "                                   explanationImageHtml      id  \\\n",
              "0     <div class=\"mt10 fl wd100\"> <div class=\"fl tc ...   72880   \n",
              "1     <div class=\"mt10 fl wd100\"> <div class=\"fl tc ...   96266   \n",
              "2                                                         96218   \n",
              "3     <div class=\"mt10 fl wd100\"> <div class=\"fl tc ...   80606   \n",
              "4                                                         72780   \n",
              "...                                                 ...     ...   \n",
              "1447  <div class=\"mt10 fl wd100\"> <div class=\"fl tc ...   82192   \n",
              "1448  <div class=\"mt10 fl wd100\"> <div class=\"fl tc ...  100595   \n",
              "1449  <div class=\"mt10 fl wd100\"> <div class=\"fl tc ...   73249   \n",
              "1450  <div class=\"mt10 fl wd100\"> <div class=\"fl tc ...   82240   \n",
              "1451                                                      73082   \n",
              "\n",
              "                                      clean_explanation  \n",
              "0     .\\nMOUNTAIN/LEE WAVES\\ndevelop on the lee, or ...  \n",
              "1     .\\nWhen cold air displaces warm air, it create...  \n",
              "2     In effect,\\nvisibility\\nis a measure of atmosp...  \n",
              "3     .\\nNote: This question has two correct answers...  \n",
              "4     An isothermal layer is defined as a vertical c...  \n",
              "...                                                 ...  \n",
              "1447  .\\nThis question is a little tricky as it is a...  \n",
              "1448  .\\nNote: This question is quite challenging, a...  \n",
              "1449  .\\nADVECTION FOG\\n. Is formed by the advection...  \n",
              "1450  .\\nIn this scenario, the aircraft has a very c...  \n",
              "1451  In the standard troposphere air temperature on...  \n",
              "\n",
              "[1452 rows x 7 columns]"
            ]
          },
          "execution_count": 5,
          "metadata": {},
          "output_type": "execute_result"
        }
      ],
      "source": [
        "# Load the cleaned data for further analysis (optional)\n",
        "df_clean = pd.read_json(output_file)\n",
        "df_clean"
      ]
    },
    {
      "cell_type": "markdown",
      "metadata": {},
      "source": [
        "### Check duplicate questions:"
      ]
    },
    {
      "cell_type": "code",
      "execution_count": 6,
      "metadata": {},
      "outputs": [
        {
          "data": {
            "text/plain": [
              "Which of the following statements is correct?                                                                                                                                                                                                                                                                                     5\n",
              "Which of the following cloud types is found at high levels?                                                                                                                                                                                                                                                                       2\n",
              "Snow grains:                                                                                                                                                                                                                                                                                                                      2\n",
              "What has to be expected when a warm air mass covers a cold surface?                                                                                                                                                                                                                                                               2\n",
              "You are about to take off from an airfield at mean sea level. There is a Nimbostratus at 5 000 ft. At ground level, the temperature is 3ºC and it is 7ºC at the top of the cloud. In the vicinity there is a mountain ridge which you are planning to cross. Which of the following conditions will result in an icing hazard?    2\n",
              "In which of the following changes of state is latent heat released?                                                                                                                                                                                                                                                               2\n",
              "What is the approximate yearly frequency of tropical revolving storms in the South-west Pacific, east of Australia?                                                                                                                                                                                                               2\n",
              "Which of the following statements is correct regarding the cooling/warming of the Earth's surface by radiation?                                                                                                                                                                                                                   2\n",
              "How many hurricanes are usually observed in the North Atlantic region each year?                                                                                                                                                                                                                                                  2\n",
              "Relative humidity:                                                                                                                                                                                                                                                                                                                2\n",
              "Which instrument is used to measure atmospheric humidity?                                                                                                                                                                                                                                                                         2\n",
              "Name: question, dtype: int64"
            ]
          },
          "execution_count": 6,
          "metadata": {},
          "output_type": "execute_result"
        }
      ],
      "source": [
        "question_counts = df_clean['question'].value_counts()\n",
        "question_counts[question_counts > 1]"
      ]
    },
    {
      "cell_type": "markdown",
      "metadata": {},
      "source": [
        "**Observation** : Even though the questions are duplicated the options and the correct answer associated with them is unique"
      ]
    },
    {
      "cell_type": "markdown",
      "metadata": {},
      "source": [
        "# Plots"
      ]
    },
    {
      "cell_type": "code",
      "execution_count": 13,
      "metadata": {
        "id": "0zMaOqZrHa77"
      },
      "outputs": [],
      "source": [
        "# Import necessary libraries\n",
        "import matplotlib.pyplot as plt\n",
        "import seaborn as sns"
      ]
    },
    {
      "cell_type": "code",
      "execution_count": 14,
      "metadata": {
        "colab": {
          "base_uri": "https://localhost:8080/",
          "height": 472
        },
        "id": "vB90fpWbB3Cy",
        "outputId": "c8ecdab3-d12b-4e9c-f5f3-8e07d28b6d45"
      },
      "outputs": [
        {
          "data": {
            "image/png": "[encoded data removed]",
            "text/plain": [
              "<Figure size 640x480 with 1 Axes>"
            ]
          },
          "metadata": {},
          "output_type": "display_data"
        }
      ],
      "source": [
        "# the distribution of question lengths\n",
        "df_clean['question_length'] = df_clean['question'].apply(len)\n",
        "sns.histplot(df_clean['question_length'], bins=30, kde=True)\n",
        "plt.title('Distribution of Question Lengths')\n",
        "plt.xlabel('Question Length')\n",
        "plt.show()"
      ]
    },
    {
      "cell_type": "code",
      "execution_count": 15,
      "metadata": {
        "colab": {
          "base_uri": "https://localhost:8080/",
          "height": 472
        },
        "id": "ASmm2VCXKrhu",
        "outputId": "54df3ceb-0cdd-48be-e85b-e6ea8ec56df5"
      },
      "outputs": [
        {
          "data": {
            "image/png": "[encoded data removed]",
            "text/plain": [
              "<Figure size 640x480 with 1 Axes>"
            ]
          },
          "metadata": {},
          "output_type": "display_data"
        }
      ],
      "source": [
        "# Visualize the distribution of correct answer lengths\n",
        "df_clean['correct_answer_length'] = df_clean['correct_answer'].apply(len)\n",
        "sns.histplot(df_clean['correct_answer_length'], bins=30, kde=True)\n",
        "plt.title('Distribution of Correct Answer Lengths')\n",
        "plt.xlabel('Correct Answer Length')\n",
        "plt.show()"
      ]
    },
    {
      "cell_type": "code",
      "execution_count": 16,
      "metadata": {
        "colab": {
          "base_uri": "https://localhost:8080/"
        },
        "id": "mp2huQyQKP9a",
        "outputId": "a1eccfb1-281f-42eb-d262-f31443d777ea"
      },
      "outputs": [
        {
          "data": {
            "text/plain": [
              "1    400\n",
              "2    396\n",
              "3    345\n",
              "4    311\n",
              "Name: correct_answer_id, dtype: int64"
            ]
          },
          "execution_count": 16,
          "metadata": {},
          "output_type": "execute_result"
        }
      ],
      "source": [
        "df_clean['correct_answer_id'] = df_clean.apply(\n",
        "    lambda row: next((ans['id'] for ans in row['answers'] if ans['answer'] == row['correct_answer']), None),\n",
        "    axis=1\n",
        ")\n",
        "df_clean['correct_answer_id'] .value_counts()"
      ]
    },
    {
      "cell_type": "code",
      "execution_count": 23,
      "metadata": {
        "colab": {
          "base_uri": "https://localhost:8080/",
          "height": 472
        },
        "id": "RshCeZ_LL7OU",
        "outputId": "48a49c4b-00cf-49e2-a7d8-cd7e31ca3790"
      },
      "outputs": [
        {
          "data": {
            "image/png": "[encoded data removed]",
            "text/plain": [
              "<Figure size 640x480 with 1 Axes>"
            ]
          },
          "metadata": {},
          "output_type": "display_data"
        }
      ],
      "source": [
        "# Distribution of correct_answer_id\n",
        "sns.countplot(x='correct_answer_id', data=df_clean, linewidth=0.5)\n",
        "plt.title('Distribution of Correct Answer IDs')\n",
        "plt.show()"
      ]
    },
    {
      "cell_type": "markdown",
      "metadata": {},
      "source": [
        "# Selecting based on simlarity :\n",
        "\n",
        "Top-1 option using embeddings of the question and the respective 4-options:"
      ]
    },
    {
      "cell_type": "markdown",
      "metadata": {},
      "source": [
        "> Installations"
      ]
    },
    {
      "cell_type": "code",
      "execution_count": 26,
      "metadata": {},
      "outputs": [],
      "source": [
        "# !pip install -q huggingface_hub\n",
        "# !pip install -q sentence-transformers\n",
        "# !pip install -q langchain"
      ]
    },
    {
      "cell_type": "code",
      "execution_count": 25,
      "metadata": {},
      "outputs": [
        {
          "name": "stderr",
          "output_type": "stream",
          "text": [
            "/scratch/shsingh/python/lib/python3.8/site-packages/tqdm/auto.py:21: TqdmWarning: IProgress not found. Please update jupyter and ipywidgets. See https://ipywidgets.readthedocs.io/en/stable/user_install.html\n",
            "  from .autonotebook import tqdm as notebook_tqdm\n"
          ]
        }
      ],
      "source": [
        "import pandas as pd\n",
        "from sentence_transformers import SentenceTransformer, util\n",
        "from langchain.embeddings import HuggingFaceEmbeddings\n",
        "import matplotlib.pyplot as plt"
      ]
    },
    {
      "cell_type": "markdown",
      "metadata": {},
      "source": [
        "The similarity between the question and all the options associated with the question is calculated one by one. The option with the maximum similarity score is considered to be the predicted answer. This predicted answer is then compared with the correct answer associated with the question. This is the starting point of the solution adhering to the Occams Razor principle.\n",
        "\n",
        "\n",
        "**Observation**:\n",
        "On the overall dataset(without image questions), this approach gives an accuracy of  **28.58\\%** and on the test dataset(last 452 questions), this approach gives an accuracy of  **29.65\\%** "
      ]
    },
    {
      "cell_type": "code",
      "execution_count": 28,
      "metadata": {},
      "outputs": [],
      "source": [
        "clean_questions=pd.read_json(output_file)"
      ]
    },
    {
      "cell_type": "code",
      "execution_count": 30,
      "metadata": {},
      "outputs": [],
      "source": [
        "modelPath = \"sentence-transformers/all-MiniLM-l6-v2\"\n",
        "#modelPath = \"sentence-transformers/all-mpnet-base-v2\"\n",
        "\n",
        "# Create a dictionary with model configuration options, specifying to use the CPU for computations\n",
        "model_kwargs = {'device':'cpu'}\n",
        "\n",
        "# Create a dictionary with encoding options, specifically setting 'normalize_embeddings' to False\n",
        "encode_kwargs = {'normalize_embeddings': False}\n",
        "\n",
        "# Initialize an instance of HuggingFaceEmbeddings with the specified parameters\n",
        "embeddings = HuggingFaceEmbeddings(\n",
        "    model_name=modelPath,     # Provide the pre-trained model's path\n",
        "    model_kwargs=model_kwargs, # Pass the model configuration options\n",
        "    encode_kwargs=encode_kwargs # Pass the encoding options\n",
        ")"
      ]
    },
    {
      "cell_type": "code",
      "execution_count": 31,
      "metadata": {},
      "outputs": [],
      "source": [
        "def get_most_sim_answer(row):\n",
        "  question=row['question']\n",
        "  answer_options=row['answers']\n",
        "  max_score=0\n",
        "  max_answer=None\n",
        "  embquest=embeddings.embed_query(question)\n",
        "  for option in answer_options:\n",
        "    score=util.pytorch_cos_sim(embquest, embeddings.embed_query(option['answer'])).item()\n",
        "    if score>max_score:\n",
        "      max_score=score\n",
        "      max_answer=option['answer']\n",
        "  return max_answer"
      ]
    },
    {
      "cell_type": "code",
      "execution_count": 39,
      "metadata": {},
      "outputs": [
        {
          "name": "stdout",
          "output_type": "stream",
          "text": [
            "Accuracy: 28.58%\n"
          ]
        }
      ],
      "source": [
        "clean_questions['most_similar_answer'] = clean_questions.apply(get_most_sim_answer, axis=1)\n",
        "clean_questions['matched_with_embedding']=clean_questions['most_similar_answer']==clean_questions['correct_answer']\n",
        "clean_questions['matched_with_embedding'].value_counts()\n",
        "# Calculate accuracy\n",
        "accuracy = clean_questions['matched_with_embedding'].sum() / len(clean_questions)\n",
        "print(f'Accuracy: {accuracy:.2%}')"
      ]
    },
    {
      "cell_type": "code",
      "execution_count": 33,
      "metadata": {},
      "outputs": [
        {
          "data": {
            "text/plain": [
              "<Axes: >"
            ]
          },
          "execution_count": 33,
          "metadata": {},
          "output_type": "execute_result"
        },
        {
          "data": {
            "image/png": "[encoded data removed]",
            "text/plain": [
              "<Figure size 640x480 with 1 Axes>"
            ]
          },
          "metadata": {},
          "output_type": "display_data"
        }
      ],
      "source": [
        "clean_questions['matched_with_embedding'].value_counts().plot(kind='bar')"
      ]
    },
    {
      "cell_type": "code",
      "execution_count": 43,
      "metadata": {},
      "outputs": [
        {
          "name": "stdout",
          "output_type": "stream",
          "text": [
            "False    318\n",
            "True     134\n",
            "Name: matched_with_embedding, dtype: int64\n",
            "Accuracy: 29.65%\n"
          ]
        },
        {
          "data": {
            "text/plain": [
              "<Axes: >"
            ]
          },
          "execution_count": 43,
          "metadata": {},
          "output_type": "execute_result"
        },
        {
          "data": {
            "image/png": "[encoded data removed]",
            "text/plain": [
              "<Figure size 640x480 with 1 Axes>"
            ]
          },
          "metadata": {},
          "output_type": "display_data"
        }
      ],
      "source": [
        "#TEST_SET only:\n",
        "\n",
        "test_df = clean_questions.tail(452).reset_index(drop=True)\n",
        "print(test_df['matched_with_embedding'].value_counts())\n",
        "test_accuracy = test_df['matched_with_embedding'].sum() / len(test_df)\n",
        "print(f'Accuracy: {test_accuracy:.2%}')\n",
        "test_df['matched_with_embedding'].value_counts().plot(kind='bar')"
      ]
    },
    {
      "cell_type": "code",
      "execution_count": null,
      "metadata": {},
      "outputs": [],
      "source": []
    }
  ],
  "metadata": {
    "colab": {
      "provenance": []
    },
    "kernelspec": {
      "display_name": "thesis",
      "language": "python",
      "name": "thesis"
    },
    "language_info": {
      "codemirror_mode": {
        "name": "ipython",
        "version": 3
      },
      "file_extension": ".py",
      "mimetype": "text/x-python",
      "name": "python",
      "nbconvert_exporter": "python",
      "pygments_lexer": "ipython3",
      "version": "3.8.10"
    }
  },
  "nbformat": 4,
  "nbformat_minor": 0
}
